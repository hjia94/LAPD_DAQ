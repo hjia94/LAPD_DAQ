{
 "cells": [
  {
   "cell_type": "markdown",
   "metadata": {},
   "source": [
    "# For XYZ drive"
   ]
  },
  {
   "cell_type": "code",
   "execution_count": null,
   "metadata": {},
   "outputs": [],
   "source": [
    "import time\n",
    "from Motor_Control import Motor_Control_2D, Motor_Control_3D\n",
    "\n",
    "mc = Motor_Control_3D(\"192.168.7.163\",\"192.168.7.165\", \"192.168.7.164\") # x-ip, y-ip, z-ip\n",
    "mc2D = Motor_Control_2D(\"192.168.7.161\",\"192.168.7.162\")"
   ]
  },
  {
   "cell_type": "code",
   "execution_count": null,
   "metadata": {},
   "outputs": [],
   "source": [
    "# Define probe movement limits\n",
    "x_limits = (-40, 200)  # (min, max) in cm\n",
    "y_limits = (-30, 30)\n",
    "z_limits = (-15, 15)\n",
    "\n",
    "xm_limits = (-65, 40)\n",
    "ym_limits = (-47, 47)\n",
    "zm_limits = (-25, 20)\n",
    "\n",
    "def outer_boundary(x, y, z):\n",
    "    \"\"\"Return True if position is within allowed range\"\"\"\n",
    "    return (x_limits[0] <= x <= x_limits[1] and \n",
    "            y_limits[0] <= y <= y_limits[1] and \n",
    "            z_limits[0] <= z <= z_limits[1])\n",
    "\n",
    "def obstacle_boundary(x, y, z):\n",
    "    \"\"\"Return True if position is NOT in obstacle\"\"\"\n",
    "    # Check large box obstacle (30x6x11 cm box from x=-50 to -20)\n",
    "    buffer = 0.2  # Small buffer to ensure paths don't get too close\n",
    "    in_obstacle = ( -60 <= x <= -17 and \n",
    "                    -2.5 <= y <= 5 and \n",
    "                    -6.5 <= z <= 9)\n",
    "    \n",
    "    return not in_obstacle\n",
    "\n",
    "def motor_boundary(x, y, z):\n",
    "    \"\"\"Return True if position is within allowed range\"\"\"\n",
    "    # Check outer boundary\n",
    "    in_outer_boundary = (xm_limits[0] <= x <= xm_limits[1] and \n",
    "                        ym_limits[0] <= y <= ym_limits[1] and \n",
    "                        zm_limits[0] <= z <= zm_limits[1])\n",
    "    return in_outer_boundary\n",
    "\n",
    "# Add boundaries to boundary checker\n",
    "mc.boundary_checker.add_probe_boundary(outer_boundary, is_outer_boundary=True)\n",
    "mc.boundary_checker.add_probe_boundary(obstacle_boundary)\n",
    "mc.boundary_checker.add_motor_boundary(motor_boundary)\n",
    "\n",
    "# Motor limit swtich for 2D \n",
    "xm_limits = (-60, 39)\n",
    "ym_limits = (-74, 59)\n",
    "def motor_boundary(x, y, z):\n",
    "    \"\"\"Return True if position is within allowed range\"\"\"\n",
    "    # Check outer boundary\n",
    "    in_outer_boundary = (xm_limits[0] <= x <= xm_limits[1] and \n",
    "                        ym_limits[0] <= y <= ym_limits[1] and \n",
    "                        -999 <= z <= 999) \n",
    "    return in_outer_boundary\n",
    "mc2D.boundary_checker.add_motor_boundary(motor_boundary)"
   ]
  },
  {
   "cell_type": "code",
   "execution_count": null,
   "metadata": {},
   "outputs": [],
   "source": [
    "mc.enable\n",
    "mc.probe_positions = 30,0,0\n",
    "mc.disable"
   ]
  },
  {
   "cell_type": "code",
   "execution_count": null,
   "metadata": {},
   "outputs": [],
   "source": [
    "mc2D.probe_positions = -38 , 13"
   ]
  },
  {
   "cell_type": "code",
   "execution_count": null,
   "metadata": {},
   "outputs": [],
   "source": [
    "mc2D.enable\n",
    "mc2D.probe_positions = 0,0\n",
    "mc2D.disable"
   ]
  },
  {
   "cell_type": "code",
   "execution_count": null,
   "metadata": {},
   "outputs": [],
   "source": [
    "print (\"Current XYZ probe position: \", mc.probe_positions)\n",
    "print (\"Current XY probe position: \", mc2D.probe_positions)"
   ]
  },
  {
   "cell_type": "code",
   "execution_count": null,
   "metadata": {},
   "outputs": [],
   "source": [
    "mc2D.set_zero"
   ]
  },
  {
   "cell_type": "markdown",
   "metadata": {},
   "source": [
    "## For Tungsten dropper"
   ]
  },
  {
   "cell_type": "code",
   "execution_count": null,
   "metadata": {},
   "outputs": [],
   "source": [
    "from Motor_Control_1D import Motor_Control\n",
    "import time\n",
    "\n",
    "mc_w = Motor_Control(server_ip_addr=\"192.168.7.99\", stop_switched=False, name=\"w_dropper\")\n",
    "mc_k = Motor_Control(server_ip_addr=\"192.168.7.98\", cm_per_turn=0.425, stop_switched=False, name=\"kapton window\")"
   ]
  },
  {
   "cell_type": "code",
   "execution_count": null,
   "metadata": {},
   "outputs": [],
   "source": [
    "spt = mc_w.steps_per_rev()\n",
    "one_drop = int(spt/12) +1\n",
    "\n",
    "cur_step = mc_w.current_step()\n",
    "ball_count = int(cur_step/one_drop)\n",
    "\n",
    "print('Drop count: ', ball_count)\n",
    "\n",
    "mc_w.turn_to(cur_step + one_drop)\n",
    "time.sleep(0.5)\n",
    "if mc_w.current_step()-cur_step > 0:\n",
    "    print('New ball dropped')"
   ]
  },
  {
   "cell_type": "code",
   "execution_count": null,
   "metadata": {},
   "outputs": [],
   "source": [
    "mc_k.enable\n",
    "mc_k.motor_position = 0\n",
    "mc_k.disable"
   ]
  },
  {
   "cell_type": "code",
   "execution_count": null,
   "metadata": {},
   "outputs": [],
   "source": []
  }
 ],
 "metadata": {
  "kernelspec": {
   "display_name": "base",
   "language": "python",
   "name": "python3"
  },
  "language_info": {
   "codemirror_mode": {
    "name": "ipython",
    "version": 3
   },
   "file_extension": ".py",
   "mimetype": "text/x-python",
   "name": "python",
   "nbconvert_exporter": "python",
   "pygments_lexer": "ipython3",
   "version": "3.12.4"
  }
 },
 "nbformat": 4,
 "nbformat_minor": 4
}
