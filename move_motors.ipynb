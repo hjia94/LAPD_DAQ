{
 "cells": [
  {
   "cell_type": "code",
   "execution_count": 5,
   "metadata": {},
   "outputs": [],
   "source": [
    "import numpy as np\n",
    "# from bapsf_motion.transform import LaPDXYTransform\n",
    "import math\n",
    "from scipy.optimize import minimize\n",
    "import time\n",
    "\n",
    "from Motor_Control_1D import Motor_Control\n",
    "from Motor_Control_2D import Motor_Control_2D"
   ]
  },
  {
   "cell_type": "code",
   "execution_count": 3,
   "metadata": {},
   "outputs": [
    {
     "name": "stdout",
     "output_type": "stream",
     "text": [
      "looking for motor server at 192.168.7.161 status = D\n",
      "...found\n",
      "looking for motor server at 192.168.7.162 status = AD\n",
      "...found\n",
      "Drive is hitting a stop switch at  -0.000127\n",
      "looking for motor server at 192.168.7.99 status = R\n",
      "...found\n"
     ]
    }
   ],
   "source": [
    "mc = Motor_Control_2D(x_ip_addr = \"192.168.7.161\", y_ip_addr = \"192.168.7.162\")\n",
    "mc_w = Motor_Control(server_ip_addr=\"192.168.7.99\", stop_switched=False, name=\"w_dropper\")"
   ]
  },
  {
   "cell_type": "code",
   "execution_count": 291,
   "metadata": {},
   "outputs": [],
   "source": [
    "mc.enable\n",
    "mc.probe_positions = 0,0\n",
    "mc.disable"
   ]
  },
  {
   "cell_type": "code",
   "execution_count": 290,
   "metadata": {},
   "outputs": [
    {
     "name": "stdout",
     "output_type": "stream",
     "text": [
      "Current XY-drive probe position:  (30.0, -0.0)\n"
     ]
    }
   ],
   "source": [
    "print (\"Current XY-drive probe position: \", mc.probe_positions)"
   ]
  },
  {
   "cell_type": "code",
   "execution_count": 312,
   "metadata": {},
   "outputs": [
    {
     "name": "stdout",
     "output_type": "stream",
     "text": [
      "Drop count:  163\n"
     ]
    }
   ],
   "source": [
    "spt = mc_w.steps_per_rev()\n",
    "one_drop = int(spt/12) +1\n",
    "\n",
    "cur_step = mc_w.current_step()\n",
    "ball_count = int(cur_step/one_drop)\n",
    "\n",
    "print('Drop count: ', ball_count)\n",
    "\n",
    "mc_w.turn_to(cur_step + one_drop)\n"
   ]
  },
  {
   "cell_type": "code",
   "execution_count": 316,
   "metadata": {},
   "outputs": [
    {
     "name": "stdout",
     "output_type": "stream",
     "text": [
      "Log file recording probe actual positions created on Tue Oct 29 20:47:07 2024\n",
      "position index, x, y\n",
      "Positions array loaded with 6000 entries.\n"
     ]
    }
   ],
   "source": [
    "import pickle\n",
    "\n",
    "pos_log = r\"E:\\Shadow data\\Energetic_Electron_Ring\\exp_09_XYplane_2024-10-29\\real_positions.bin\"\n",
    "\n",
    "# Read and print the first few lines as strings\n",
    "with open(pos_log, 'rb') as f:\n",
    "    for _ in range(2):  # Adjust the number of lines to read as needed\n",
    "        try:\n",
    "            line = f.readline().decode('utf-8', errors='ignore')\n",
    "            print(line.strip())\n",
    "        except UnicodeDecodeError:\n",
    "            continue  # Skip lines that cannot be decoded\n",
    "\n",
    "    # Read the rest of the file as binary data\n",
    "    positions_array = []\n",
    "\n",
    "    while True:\n",
    "        try:\n",
    "            pos = pickle.load(f)\n",
    "            positions_array.append(pos)\n",
    "        except EOFError:\n",
    "            break\n",
    "\n",
    "    print(\"Positions array loaded with\", len(positions_array), \"entries.\")"
   ]
  },
  {
   "cell_type": "code",
   "execution_count": null,
   "metadata": {},
   "outputs": [],
   "source": []
  }
 ],
 "metadata": {
  "kernelspec": {
   "display_name": "Python 3",
   "language": "python",
   "name": "python3"
  },
  "language_info": {
   "codemirror_mode": {
    "name": "ipython",
    "version": 3
   },
   "file_extension": ".py",
   "mimetype": "text/x-python",
   "name": "python",
   "nbconvert_exporter": "python",
   "pygments_lexer": "ipython3",
   "version": "3.11.7"
  }
 },
 "nbformat": 4,
 "nbformat_minor": 4
}
