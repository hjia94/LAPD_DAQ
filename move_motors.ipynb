{
 "cells": [
  {
   "cell_type": "markdown",
   "metadata": {},
   "source": [
    "# For XYZ drive"
   ]
  },
  {
   "cell_type": "code",
   "execution_count": 5,
   "metadata": {},
   "outputs": [],
   "source": [
    "from Motor_Control import Motor_Control_2D, Motor_Control_3D\n",
    "# mc = Motor_Control_2D(x_ip_addr=\"192.168.7.161\", y_ip_addr=\"192.168.7.162\")\n",
    "mc = Motor_Control_3D(x_ip_addr=\"192.168.7.163\", y_ip_addr=\"192.168.7.165\", z_ip_addr=\"192.168.7.164\")"
   ]
  },
  {
   "cell_type": "code",
   "execution_count": 3,
   "metadata": {},
   "outputs": [
    {
     "name": "stdout",
     "output_type": "stream",
     "text": [
      "looking for motor server at 192.168.7.161 status = D\n",
      "...found\n",
      "looking for motor server at 192.168.7.162 status = AD\n",
      "...found\n",
      "Drive is hitting a stop switch at  -0.000127\n",
      "looking for motor server at 192.168.7.99 status = R\n",
      "...found\n"
     ]
    }
   ],
   "source": [
    "mc.enable\n",
    "mc.probe_positions = 50,0,0\n",
    "mc.disable"
   ]
  },
  {
   "cell_type": "code",
   "execution_count": 290,
   "metadata": {},
   "outputs": [
    {
     "name": "stdout",
     "output_type": "stream",
     "text": [
      "Current XY-drive probe position:  (30.0, -0.0)\n"
     ]
    }
   ],
   "source": [
    "print (\"Current XY-drive probe position: \", mc.probe_positions)"
   ]
  },
  {
   "cell_type": "code",
   "execution_count": 291,
   "metadata": {},
   "outputs": [],
   "source": [
    "mc.set_zero"
   ]
  },
  {
   "cell_type": "markdown",
   "metadata": {},
   "source": [
    "## For Tungsten dropper"
   ]
  },
  {
   "cell_type": "code",
   "execution_count": 316,
   "metadata": {},
   "outputs": [
    {
     "name": "stdout",
     "output_type": "stream",
     "text": [
      "Log file recording probe actual positions created on Tue Oct 29 20:47:07 2024\n",
      "position index, x, y\n",
      "Positions array loaded with 6000 entries.\n"
     ]
    }
   ],
   "source": [
    "from Motor_Control_1D import Motor_Control\n",
    "import time\n",
    "\n",
    "mc_w = Motor_Control(server_ip_addr=\"192.168.7.99\", stop_switched=False, name=\"w_dropper\")\n",
    "mc_k = Motor_Control(server_ip_addr=\"192.168.7.98\", cm_per_turn=0.425, stop_switched=False, name=\"kapton window\")"
   ]
  },
  {
   "cell_type": "code",
   "execution_count": null,
   "metadata": {},
   "outputs": [],
   "source": [
    "spt = mc_w.steps_per_rev()\n",
    "one_drop = int(spt/12) +1\n",
    "\n",
    "cur_step = mc_w.current_step()\n",
    "ball_count = int(cur_step/one_drop)\n",
    "\n",
    "print('Drop count: ', ball_count)\n",
    "\n",
    "mc_w.turn_to(cur_step + one_drop)\n",
    "time.sleep(0.5)\n",
    "if mc_w.current_step()-cur_step > 0:\n",
    "    print('New ball dropped')"
   ]
  },
  {
   "cell_type": "code",
   "execution_count": null,
   "metadata": {},
   "outputs": [],
   "source": [
    "mc_k.enable\n",
    "mc_k.motor_position = 0\n",
    "mc_k.disable"
   ]
  },
  {
   "cell_type": "code",
   "execution_count": null,
   "metadata": {},
   "outputs": [],
   "source": []
  }
 ],
 "metadata": {
  "kernelspec": {
   "display_name": "Python 3",
   "language": "python",
   "name": "python3"
  },
  "language_info": {
   "codemirror_mode": {
    "name": "ipython",
    "version": 3
   },
   "file_extension": ".py",
   "mimetype": "text/x-python",
   "name": "python",
   "nbconvert_exporter": "python",
   "pygments_lexer": "ipython3",
   "version": "3.11.7"
  }
 },
 "nbformat": 4,
 "nbformat_minor": 4
}
