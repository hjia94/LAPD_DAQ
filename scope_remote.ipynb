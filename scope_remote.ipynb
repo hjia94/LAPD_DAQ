{
 "cells": [
  {
   "cell_type": "code",
   "execution_count": 1,
   "metadata": {},
   "outputs": [],
   "source": [
    "import matplotlib.pyplot as plt\n",
    "from LeCroy_Scope import LeCroy_Scope\n",
    "import numpy as np\n",
    "import time\n",
    "import matplotlib.image as mpimg\n",
    "\n",
    "%matplotlib qt"
   ]
  },
  {
   "cell_type": "code",
   "execution_count": null,
   "metadata": {},
   "outputs": [],
   "source": [
    "BScope = LeCroy_Scope(\"192.168.7.63\", verbose=False)\n",
    "mScope = LeCroy_Scope(\"192.168.7.64\", verbose=False)\n",
    "xScope = LeCroy_Scope(\"192.168.7.66\", verbose=False)"
   ]
  },
  {
   "cell_type": "code",
   "execution_count": 151,
   "metadata": {},
   "outputs": [],
   "source": [
    "BScope.screen_dump(\"Bdot\", png_fn='Bdot.png', show_plot=False)\n",
    "mScope.screen_dump(\"magnetron\", png_fn='magnetron.png', show_plot=False)\n",
    "xScope.screen_dump(\"x-ray\", png_fn='xray.png', show_plot=False)\n",
    "\n",
    "# Load images\n",
    "img1 = mpimg.imread('Bdot.png')\n",
    "img2 = mpimg.imread('magnetron.png')\n",
    "img3 = mpimg.imread('xray.png')\n",
    "\n",
    "# Create a figure to stack images vertically\n",
    "if 'fig' in globals() and 'axs' in globals():\n",
    "    for ax in axs:\n",
    "        ax.clear()\n",
    "else:\n",
    "    fig, axs = plt.subplots(3, 1, figsize=(10, 15))\n",
    "\n",
    "axs[0].imshow(img1)\n",
    "axs[0].axis('off')\n",
    "axs[0].set_title('Bdot')\n",
    "\n",
    "axs[1].imshow(img2)\n",
    "axs[1].axis('off')\n",
    "axs[1].set_title('Magnetron')\n",
    "\n",
    "axs[2].imshow(img3)\n",
    "axs[2].axis('off')\n",
    "axs[2].set_title('X-ray')\n",
    "\n",
    "plt.tight_layout()\n",
    "plt.show()"
   ]
  },
  {
   "cell_type": "code",
   "execution_count": 131,
   "metadata": {},
   "outputs": [
    {
     "data": {
      "text/plain": [
       "14"
      ]
     },
     "execution_count": 131,
     "metadata": {},
     "output_type": "execute_result"
    }
   ],
   "source": [
    "BScope.scope.write('CLEAR_SWEEPS')     # clear sweeps"
   ]
  },
  {
   "cell_type": "code",
   "execution_count": null,
   "metadata": {},
   "outputs": [],
   "source": []
  }
 ],
 "metadata": {
  "kernelspec": {
   "display_name": "base",
   "language": "python",
   "name": "python3"
  },
  "language_info": {
   "codemirror_mode": {
    "name": "ipython",
    "version": 3
   },
   "file_extension": ".py",
   "mimetype": "text/x-python",
   "name": "python",
   "nbconvert_exporter": "python",
   "pygments_lexer": "ipython3",
   "version": "3.11.7"
  }
 },
 "nbformat": 4,
 "nbformat_minor": 2
}
